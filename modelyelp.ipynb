{
 "cells": [
  {
   "cell_type": "code",
   "execution_count": 15,
   "id": "052c73cb-4704-4ce9-99ce-b37bf1f21e88",
   "metadata": {},
   "outputs": [
    {
     "name": "stdout",
     "output_type": "stream",
     "text": [
      "Requirement already satisfied: pandas-gbq in ./.local/lib/python3.7/site-packages (0.19.2)\n",
      "Requirement already satisfied: setuptools in /opt/conda/lib/python3.7/site-packages (from pandas-gbq) (67.7.2)\n",
      "Requirement already satisfied: db-dtypes<2.0.0,>=1.0.4 in /opt/conda/lib/python3.7/site-packages (from pandas-gbq) (1.1.1)\n",
      "Requirement already satisfied: numpy>=1.16.6 in /opt/conda/lib/python3.7/site-packages (from pandas-gbq) (1.21.6)\n",
      "Requirement already satisfied: pandas>=1.1.4 in /opt/conda/lib/python3.7/site-packages (from pandas-gbq) (1.3.5)\n",
      "Requirement already satisfied: pyarrow>=3.0.0 in /opt/conda/lib/python3.7/site-packages (from pandas-gbq) (12.0.0)\n",
      "Requirement already satisfied: pydata-google-auth>=1.5.0 in ./.local/lib/python3.7/site-packages (from pandas-gbq) (1.8.0)\n",
      "Requirement already satisfied: google-api-core<3.0.0dev,>=2.10.2 in ./.local/lib/python3.7/site-packages (from pandas-gbq) (2.11.1)\n",
      "Requirement already satisfied: google-auth>=2.13.0 in /opt/conda/lib/python3.7/site-packages (from pandas-gbq) (2.19.1)\n",
      "Requirement already satisfied: google-auth-oauthlib>=0.7.0 in /opt/conda/lib/python3.7/site-packages (from pandas-gbq) (1.0.0)\n",
      "Requirement already satisfied: google-cloud-bigquery!=2.4.*,<4.0.0dev,>=3.3.5 in /opt/conda/lib/python3.7/site-packages (from pandas-gbq) (3.11.0)\n",
      "Requirement already satisfied: google-cloud-bigquery-storage<3.0.0dev,>=2.16.2 in /opt/conda/lib/python3.7/site-packages (from pandas-gbq) (2.20.0)\n",
      "Requirement already satisfied: packaging>=17.0 in /opt/conda/lib/python3.7/site-packages (from db-dtypes<2.0.0,>=1.0.4->pandas-gbq) (23.1)\n",
      "Requirement already satisfied: googleapis-common-protos<2.0.dev0,>=1.56.2 in /opt/conda/lib/python3.7/site-packages (from google-api-core<3.0.0dev,>=2.10.2->pandas-gbq) (1.59.0)\n",
      "Requirement already satisfied: protobuf!=3.20.0,!=3.20.1,!=4.21.0,!=4.21.1,!=4.21.2,!=4.21.3,!=4.21.4,!=4.21.5,<5.0.0.dev0,>=3.19.5 in /opt/conda/lib/python3.7/site-packages (from google-api-core<3.0.0dev,>=2.10.2->pandas-gbq) (3.20.3)\n",
      "Requirement already satisfied: requests<3.0.0.dev0,>=2.18.0 in /opt/conda/lib/python3.7/site-packages (from google-api-core<3.0.0dev,>=2.10.2->pandas-gbq) (2.31.0)\n",
      "Requirement already satisfied: cachetools<6.0,>=2.0.0 in /opt/conda/lib/python3.7/site-packages (from google-auth>=2.13.0->pandas-gbq) (5.3.1)\n",
      "Requirement already satisfied: pyasn1-modules>=0.2.1 in /opt/conda/lib/python3.7/site-packages (from google-auth>=2.13.0->pandas-gbq) (0.3.0)\n",
      "Requirement already satisfied: rsa<5,>=3.1.4 in /opt/conda/lib/python3.7/site-packages (from google-auth>=2.13.0->pandas-gbq) (4.9)\n",
      "Requirement already satisfied: six>=1.9.0 in /opt/conda/lib/python3.7/site-packages (from google-auth>=2.13.0->pandas-gbq) (1.16.0)\n",
      "Requirement already satisfied: urllib3<2.0 in /opt/conda/lib/python3.7/site-packages (from google-auth>=2.13.0->pandas-gbq) (1.26.16)\n",
      "Requirement already satisfied: requests-oauthlib>=0.7.0 in /opt/conda/lib/python3.7/site-packages (from google-auth-oauthlib>=0.7.0->pandas-gbq) (1.3.1)\n",
      "Requirement already satisfied: grpcio<2.0dev,>=1.47.0 in /opt/conda/lib/python3.7/site-packages (from google-cloud-bigquery!=2.4.*,<4.0.0dev,>=3.3.5->pandas-gbq) (1.51.3)\n",
      "Requirement already satisfied: proto-plus<2.0.0dev,>=1.15.0 in /opt/conda/lib/python3.7/site-packages (from google-cloud-bigquery!=2.4.*,<4.0.0dev,>=3.3.5->pandas-gbq) (1.22.2)\n",
      "Requirement already satisfied: google-cloud-core<3.0.0dev,>=1.6.0 in /opt/conda/lib/python3.7/site-packages (from google-cloud-bigquery!=2.4.*,<4.0.0dev,>=3.3.5->pandas-gbq) (2.3.2)\n",
      "Requirement already satisfied: google-resumable-media<3.0dev,>=0.6.0 in /opt/conda/lib/python3.7/site-packages (from google-cloud-bigquery!=2.4.*,<4.0.0dev,>=3.3.5->pandas-gbq) (2.5.0)\n",
      "Requirement already satisfied: python-dateutil<3.0dev,>=2.7.2 in /opt/conda/lib/python3.7/site-packages (from google-cloud-bigquery!=2.4.*,<4.0.0dev,>=3.3.5->pandas-gbq) (2.8.2)\n",
      "Requirement already satisfied: pytz>=2017.3 in /opt/conda/lib/python3.7/site-packages (from pandas>=1.1.4->pandas-gbq) (2023.3)\n",
      "Requirement already satisfied: grpcio-status<2.0.dev0,>=1.33.2 in /opt/conda/lib/python3.7/site-packages (from google-api-core<3.0.0dev,>=2.10.2->pandas-gbq) (1.48.2)\n",
      "Requirement already satisfied: google-crc32c<2.0dev,>=1.0 in /opt/conda/lib/python3.7/site-packages (from google-resumable-media<3.0dev,>=0.6.0->google-cloud-bigquery!=2.4.*,<4.0.0dev,>=3.3.5->pandas-gbq) (1.5.0)\n",
      "Requirement already satisfied: pyasn1<0.6.0,>=0.4.6 in /opt/conda/lib/python3.7/site-packages (from pyasn1-modules>=0.2.1->google-auth>=2.13.0->pandas-gbq) (0.5.0)\n",
      "Requirement already satisfied: charset-normalizer<4,>=2 in /opt/conda/lib/python3.7/site-packages (from requests<3.0.0.dev0,>=2.18.0->google-api-core<3.0.0dev,>=2.10.2->pandas-gbq) (3.1.0)\n",
      "Requirement already satisfied: idna<4,>=2.5 in /opt/conda/lib/python3.7/site-packages (from requests<3.0.0.dev0,>=2.18.0->google-api-core<3.0.0dev,>=2.10.2->pandas-gbq) (3.4)\n",
      "Requirement already satisfied: certifi>=2017.4.17 in /opt/conda/lib/python3.7/site-packages (from requests<3.0.0.dev0,>=2.18.0->google-api-core<3.0.0dev,>=2.10.2->pandas-gbq) (2023.5.7)\n",
      "Requirement already satisfied: oauthlib>=3.0.0 in /opt/conda/lib/python3.7/site-packages (from requests-oauthlib>=0.7.0->google-auth-oauthlib>=0.7.0->pandas-gbq) (3.2.2)\n",
      "Note: you may need to restart the kernel to use updated packages.\n"
     ]
    }
   ],
   "source": [
    "pip install pandas-gbq --user"
   ]
  },
  {
   "cell_type": "code",
   "execution_count": 8,
   "id": "31aaf4c8-c057-4250-8eb6-cb89b70d1382",
   "metadata": {},
   "outputs": [],
   "source": [
    "import pandas as pd\n",
    "from pandas.io import gbq\n",
    "from sklearn.neighbors import NearestNeighbors\n",
    "from sklearn.compose import ColumnTransformer\n",
    "from sklearn.preprocessing import OneHotEncoder, StandardScaler\n",
    "from sklearn.pipeline import make_pipeline"
   ]
  },
  {
   "cell_type": "code",
   "execution_count": 3,
   "id": "efbbc0e8-e9ad-44a6-9658-d350b58042d8",
   "metadata": {},
   "outputs": [
    {
     "name": "stdout",
     "output_type": "stream",
     "text": [
      "Collecting scikit-surprise\n",
      "  Using cached scikit_surprise-1.1.1-cp37-cp37m-linux_x86_64.whl\n",
      "Requirement already satisfied: joblib>=0.11 in /opt/conda/lib/python3.7/site-packages (from scikit-surprise) (1.2.0)\n",
      "Requirement already satisfied: numpy>=1.11.2 in /opt/conda/lib/python3.7/site-packages (from scikit-surprise) (1.21.6)\n",
      "Requirement already satisfied: scipy>=1.0.0 in /opt/conda/lib/python3.7/site-packages (from scikit-surprise) (1.7.3)\n",
      "Requirement already satisfied: six>=1.10.0 in /opt/conda/lib/python3.7/site-packages (from scikit-surprise) (1.16.0)\n",
      "Installing collected packages: scikit-surprise\n",
      "Successfully installed scikit-surprise-1.1.1\n"
     ]
    }
   ],
   "source": [
    "!pip install scikit-surprise"
   ]
  },
  {
   "cell_type": "code",
   "execution_count": 4,
   "id": "76981b40-037b-4bc9-abb9-d360ca1bd7f6",
   "metadata": {},
   "outputs": [],
   "source": [
    "import numpy as np\n",
    "import joblib\n",
    "import pickle\n",
    "from scipy import sparse\n",
    "from surprise import Dataset, Reader\n",
    "from surprise import SVD\n",
    "from surprise import accuracy\n",
    "from surprise.model_selection import cross_validate\n",
    "from surprise.model_selection import train_test_split\n",
    "from surprise.model_selection import GridSearchCV\n",
    "from sklearn.model_selection import RandomizedSearchCV\n",
    "from joblib import parallel_backend"
   ]
  },
  {
   "cell_type": "code",
   "execution_count": 5,
   "id": "49b62e17-6d70-4d1f-8d78-f983ae1f51e1",
   "metadata": {},
   "outputs": [],
   "source": [
    "queryYelp_bus = \"\"\"\n",
    "Select business_id,local_name\n",
    "from Yelp.business\n",
    "\"\"\""
   ]
  },
  {
   "cell_type": "code",
   "execution_count": 6,
   "id": "42bb81ad-f985-45dd-a643-bf939f14d54b",
   "metadata": {},
   "outputs": [],
   "source": [
    "queryYelp_us=\"\"\"\n",
    "Select user_id, business_id, rating\n",
    "from Yelp.Reviews\n",
    "where business_id in (select business_id from Yelp.business)\n",
    "\"\"\""
   ]
  },
  {
   "cell_type": "code",
   "execution_count": 9,
   "id": "221be491-8b04-4191-b8f6-de629f190fbc",
   "metadata": {},
   "outputs": [],
   "source": [
    "data_bus = pd.read_gbq(queryYelp_bus, dialect='standard')"
   ]
  },
  {
   "cell_type": "code",
   "execution_count": 10,
   "id": "896ad5e3-930b-46da-aff5-cc5507a81abd",
   "metadata": {},
   "outputs": [],
   "source": [
    "data_us= pd.read_gbq(queryYelp_us, dialect='standard')"
   ]
  },
  {
   "cell_type": "code",
   "execution_count": 11,
   "id": "1a7ee214-16a3-480c-846d-9e6be93c9911",
   "metadata": {},
   "outputs": [
    {
     "data": {
      "text/html": [
       "<div>\n",
       "<style scoped>\n",
       "    .dataframe tbody tr th:only-of-type {\n",
       "        vertical-align: middle;\n",
       "    }\n",
       "\n",
       "    .dataframe tbody tr th {\n",
       "        vertical-align: top;\n",
       "    }\n",
       "\n",
       "    .dataframe thead th {\n",
       "        text-align: right;\n",
       "    }\n",
       "</style>\n",
       "<table border=\"1\" class=\"dataframe\">\n",
       "  <thead>\n",
       "    <tr style=\"text-align: right;\">\n",
       "      <th></th>\n",
       "      <th>user_id</th>\n",
       "      <th>business_id</th>\n",
       "      <th>rating</th>\n",
       "    </tr>\n",
       "  </thead>\n",
       "  <tbody>\n",
       "    <tr>\n",
       "      <th>0</th>\n",
       "      <td>Hix_0MLiJtCIyhhC-ceBdQ</td>\n",
       "      <td>iZNR8-rqsBL2afDk4Zxe8A</td>\n",
       "      <td>1.0</td>\n",
       "    </tr>\n",
       "    <tr>\n",
       "      <th>1</th>\n",
       "      <td>F5lONxVG4eQeJLPcfpSV9Q</td>\n",
       "      <td>QHOim2XPDxt_752IDXvmrA</td>\n",
       "      <td>1.0</td>\n",
       "    </tr>\n",
       "    <tr>\n",
       "      <th>2</th>\n",
       "      <td>JBKTNfhVlu4EqbG-WvJ8xA</td>\n",
       "      <td>AM0TA-5mW3-yZ5WrMYYPtw</td>\n",
       "      <td>1.0</td>\n",
       "    </tr>\n",
       "    <tr>\n",
       "      <th>3</th>\n",
       "      <td>2UQLhyDMaKsh72HGLbEpWA</td>\n",
       "      <td>MVlXCYKHwuk1Rs4wHELGIA</td>\n",
       "      <td>1.0</td>\n",
       "    </tr>\n",
       "    <tr>\n",
       "      <th>4</th>\n",
       "      <td>ALWsmfbAqnRkVnCimrIHIw</td>\n",
       "      <td>4YU-VlpC_DU0EnOjlr4C1w</td>\n",
       "      <td>1.0</td>\n",
       "    </tr>\n",
       "    <tr>\n",
       "      <th>...</th>\n",
       "      <td>...</td>\n",
       "      <td>...</td>\n",
       "      <td>...</td>\n",
       "    </tr>\n",
       "    <tr>\n",
       "      <th>1483925</th>\n",
       "      <td>bldlSShNjxRmlEhz_ls25w</td>\n",
       "      <td>f3eve2cxUIzyanWnHdMtFQ</td>\n",
       "      <td>5.0</td>\n",
       "    </tr>\n",
       "    <tr>\n",
       "      <th>1483926</th>\n",
       "      <td>rHudXub0t_MUXW8nkbAm4Q</td>\n",
       "      <td>WeDn7iD1ckcEg7YttkduWg</td>\n",
       "      <td>5.0</td>\n",
       "    </tr>\n",
       "    <tr>\n",
       "      <th>1483927</th>\n",
       "      <td>wAN_AY-VbWGnS-7L5k71aw</td>\n",
       "      <td>Ul7iiiIR7AXcI6ta06SkjQ</td>\n",
       "      <td>5.0</td>\n",
       "    </tr>\n",
       "    <tr>\n",
       "      <th>1483928</th>\n",
       "      <td>nWyWNBqB659sV_hshwyKbA</td>\n",
       "      <td>owM_gW2UpuL9U3ZgqhvahA</td>\n",
       "      <td>5.0</td>\n",
       "    </tr>\n",
       "    <tr>\n",
       "      <th>1483929</th>\n",
       "      <td>3vAFNiZ0N7HgLv2XKXzKlA</td>\n",
       "      <td>3B-rMHWkpWRSMx6zYi4DNw</td>\n",
       "      <td>5.0</td>\n",
       "    </tr>\n",
       "  </tbody>\n",
       "</table>\n",
       "<p>1483930 rows × 3 columns</p>\n",
       "</div>"
      ],
      "text/plain": [
       "                        user_id             business_id rating\n",
       "0        Hix_0MLiJtCIyhhC-ceBdQ  iZNR8-rqsBL2afDk4Zxe8A    1.0\n",
       "1        F5lONxVG4eQeJLPcfpSV9Q  QHOim2XPDxt_752IDXvmrA    1.0\n",
       "2        JBKTNfhVlu4EqbG-WvJ8xA  AM0TA-5mW3-yZ5WrMYYPtw    1.0\n",
       "3        2UQLhyDMaKsh72HGLbEpWA  MVlXCYKHwuk1Rs4wHELGIA    1.0\n",
       "4        ALWsmfbAqnRkVnCimrIHIw  4YU-VlpC_DU0EnOjlr4C1w    1.0\n",
       "...                         ...                     ...    ...\n",
       "1483925  bldlSShNjxRmlEhz_ls25w  f3eve2cxUIzyanWnHdMtFQ    5.0\n",
       "1483926  rHudXub0t_MUXW8nkbAm4Q  WeDn7iD1ckcEg7YttkduWg    5.0\n",
       "1483927  wAN_AY-VbWGnS-7L5k71aw  Ul7iiiIR7AXcI6ta06SkjQ    5.0\n",
       "1483928  nWyWNBqB659sV_hshwyKbA  owM_gW2UpuL9U3ZgqhvahA    5.0\n",
       "1483929  3vAFNiZ0N7HgLv2XKXzKlA  3B-rMHWkpWRSMx6zYi4DNw    5.0\n",
       "\n",
       "[1483930 rows x 3 columns]"
      ]
     },
     "execution_count": 11,
     "metadata": {},
     "output_type": "execute_result"
    }
   ],
   "source": [
    "data_us"
   ]
  },
  {
   "cell_type": "code",
   "execution_count": 12,
   "id": "c6c57f2d-8e58-4dcc-b429-6b9ef5786d2e",
   "metadata": {},
   "outputs": [],
   "source": [
    "data_us['rating'] = data_us['rating'].astype(float)"
   ]
  },
  {
   "cell_type": "code",
   "execution_count": 13,
   "id": "1e0250be-3d24-4457-9922-d1a93334e91c",
   "metadata": {},
   "outputs": [],
   "source": [
    "val = (\n",
    "  data_us\n",
    " .query('`rating` >= 3')\n",
    ")"
   ]
  },
  {
   "cell_type": "code",
   "execution_count": 14,
   "id": "636bd0a8-f2fe-4ea7-8ed5-70f4a240997f",
   "metadata": {},
   "outputs": [],
   "source": [
    "reader = Reader(line_format='user item rating', rating_scale=(1, 5))\n",
    "data = Dataset.load_from_df(val, reader)"
   ]
  },
  {
   "cell_type": "code",
   "execution_count": 15,
   "id": "eb24b9f0-d244-4787-95b2-aff8370a92bd",
   "metadata": {},
   "outputs": [],
   "source": [
    "set_entreno, set_prueba = train_test_split(data, test_size=.30)"
   ]
  },
  {
   "cell_type": "code",
   "execution_count": 16,
   "id": "2196b8d6-dd3e-4add-95be-9e88c9c750d5",
   "metadata": {},
   "outputs": [],
   "source": [
    "modelo_us= SVD()"
   ]
  },
  {
   "cell_type": "code",
   "execution_count": 17,
   "id": "92078fc0-76cb-4799-a041-d6deb03ddbe5",
   "metadata": {},
   "outputs": [
    {
     "data": {
      "text/plain": [
       "<surprise.prediction_algorithms.matrix_factorization.SVD at 0x7fcd4e94a2d0>"
      ]
     },
     "execution_count": 17,
     "metadata": {},
     "output_type": "execute_result"
    }
   ],
   "source": [
    "modelo_us.fit(set_entreno)"
   ]
  },
  {
   "cell_type": "code",
   "execution_count": 26,
   "id": "1bbeb0fc-4357-458b-8631-ec9bd52ee614",
   "metadata": {},
   "outputs": [],
   "source": [
    "predictions = modelo_us.test(set_prueba)"
   ]
  },
  {
   "cell_type": "code",
   "execution_count": 32,
   "id": "542fbe3c-5467-46e8-9980-0cc50197ec9d",
   "metadata": {},
   "outputs": [
    {
     "data": {
      "text/plain": [
       "Prediction(uid='bldlSShNjxRmlEhz_ls25w', iid='f3eve2cxUIzyanWnHdMtFQ', r_ui=None, est=4.826572166033648, details={'was_impossible': False})"
      ]
     },
     "execution_count": 32,
     "metadata": {},
     "output_type": "execute_result"
    }
   ],
   "source": [
    "modelo_us.predict('bldlSShNjxRmlEhz_ls25w','f3eve2cxUIzyanWnHdMtFQ')"
   ]
  },
  {
   "cell_type": "code",
   "execution_count": 18,
   "id": "46269af1-a8c1-46bb-aad2-7d6bd257769c",
   "metadata": {},
   "outputs": [
    {
     "data": {
      "text/html": [
       "<div>\n",
       "<style scoped>\n",
       "    .dataframe tbody tr th:only-of-type {\n",
       "        vertical-align: middle;\n",
       "    }\n",
       "\n",
       "    .dataframe tbody tr th {\n",
       "        vertical-align: top;\n",
       "    }\n",
       "\n",
       "    .dataframe thead th {\n",
       "        text-align: right;\n",
       "    }\n",
       "</style>\n",
       "<table border=\"1\" class=\"dataframe\">\n",
       "  <thead>\n",
       "    <tr style=\"text-align: right;\">\n",
       "      <th></th>\n",
       "      <th>user_id</th>\n",
       "      <th>business_id</th>\n",
       "      <th>rating</th>\n",
       "      <th>local_name</th>\n",
       "    </tr>\n",
       "  </thead>\n",
       "  <tbody>\n",
       "    <tr>\n",
       "      <th>0</th>\n",
       "      <td>bldlSShNjxRmlEhz_ls25w</td>\n",
       "      <td>x2ly0NsSTMmMpljpdIZdYA</td>\n",
       "      <td>5.0</td>\n",
       "      <td>Cadiz Restaurant &amp; Bar</td>\n",
       "    </tr>\n",
       "    <tr>\n",
       "      <th>1</th>\n",
       "      <td>bldlSShNjxRmlEhz_ls25w</td>\n",
       "      <td>f3eve2cxUIzyanWnHdMtFQ</td>\n",
       "      <td>5.0</td>\n",
       "      <td>Corazon Cocina</td>\n",
       "    </tr>\n",
       "  </tbody>\n",
       "</table>\n",
       "</div>"
      ],
      "text/plain": [
       "                  user_id             business_id  rating  \\\n",
       "0  bldlSShNjxRmlEhz_ls25w  x2ly0NsSTMmMpljpdIZdYA     5.0   \n",
       "1  bldlSShNjxRmlEhz_ls25w  f3eve2cxUIzyanWnHdMtFQ     5.0   \n",
       "\n",
       "               local_name  \n",
       "0  Cadiz Restaurant & Bar  \n",
       "1          Corazon Cocina  "
      ]
     },
     "execution_count": 18,
     "metadata": {},
     "output_type": "execute_result"
    }
   ],
   "source": [
    "usuario = 'bldlSShNjxRmlEhz_ls25w'\n",
    "rating = 4   # Tomamos películas a las que haya calificado con 4 o 5 estrellas\n",
    "df_user = data_us[(data_us['user_id'] == usuario) & (data_us['rating'] >= rating)]\n",
    "df_user = df_user.reset_index(drop=True)\n",
    "df_user= pd.merge(df_user, data_bus, on='business_id', how='inner')\n",
    "df_user"
   ]
  },
  {
   "cell_type": "code",
   "execution_count": 40,
   "id": "3dca4c42-aff8-4d38-92f5-8c74fb5d2cd2",
   "metadata": {},
   "outputs": [
    {
     "name": "stdout",
     "output_type": "stream",
     "text": [
      "(30253, 2)\n"
     ]
    },
    {
     "data": {
      "text/html": [
       "<div>\n",
       "<style scoped>\n",
       "    .dataframe tbody tr th:only-of-type {\n",
       "        vertical-align: middle;\n",
       "    }\n",
       "\n",
       "    .dataframe tbody tr th {\n",
       "        vertical-align: top;\n",
       "    }\n",
       "\n",
       "    .dataframe thead th {\n",
       "        text-align: right;\n",
       "    }\n",
       "</style>\n",
       "<table border=\"1\" class=\"dataframe\">\n",
       "  <thead>\n",
       "    <tr style=\"text-align: right;\">\n",
       "      <th></th>\n",
       "      <th>business_id</th>\n",
       "      <th>local_name</th>\n",
       "    </tr>\n",
       "  </thead>\n",
       "  <tbody>\n",
       "    <tr>\n",
       "      <th>0</th>\n",
       "      <td>BJ0Z74sTz9sxRr1R533Inw</td>\n",
       "      <td>Best Rate Home Services</td>\n",
       "    </tr>\n",
       "    <tr>\n",
       "      <th>1</th>\n",
       "      <td>dm9UbH8XPAP6735lHRYILA</td>\n",
       "      <td>Ruby's Roof Jamaican Restaurant</td>\n",
       "    </tr>\n",
       "    <tr>\n",
       "      <th>2</th>\n",
       "      <td>aVRVBncwdK3GrqLKLFPKAg</td>\n",
       "      <td>Paradise Pizzeria</td>\n",
       "    </tr>\n",
       "    <tr>\n",
       "      <th>3</th>\n",
       "      <td>IMn6n4kjpvp0ur_KT6C3pw</td>\n",
       "      <td>Dollar General</td>\n",
       "    </tr>\n",
       "    <tr>\n",
       "      <th>4</th>\n",
       "      <td>_WxO_7bJmeeKF-wCcvgeFQ</td>\n",
       "      <td>Seafood Sensations</td>\n",
       "    </tr>\n",
       "  </tbody>\n",
       "</table>\n",
       "</div>"
      ],
      "text/plain": [
       "              business_id                       local_name\n",
       "0  BJ0Z74sTz9sxRr1R533Inw          Best Rate Home Services\n",
       "1  dm9UbH8XPAP6735lHRYILA  Ruby's Roof Jamaican Restaurant\n",
       "2  aVRVBncwdK3GrqLKLFPKAg                Paradise Pizzeria\n",
       "3  IMn6n4kjpvp0ur_KT6C3pw                   Dollar General\n",
       "4  _WxO_7bJmeeKF-wCcvgeFQ               Seafood Sensations"
      ]
     },
     "execution_count": 40,
     "metadata": {},
     "output_type": "execute_result"
    }
   ],
   "source": [
    "recomendaciones_usuario = data_bus.copy()\n",
    "print(recomendaciones_usuario.shape)\n",
    "recomendaciones_usuario.head()"
   ]
  },
  {
   "cell_type": "code",
   "execution_count": 38,
   "id": "6c1fd40f-a8f7-4f3c-ab1e-576517b2125a",
   "metadata": {},
   "outputs": [
    {
     "name": "stdout",
     "output_type": "stream",
     "text": [
      "(2, 3)\n"
     ]
    },
    {
     "data": {
      "text/html": [
       "<div>\n",
       "<style scoped>\n",
       "    .dataframe tbody tr th:only-of-type {\n",
       "        vertical-align: middle;\n",
       "    }\n",
       "\n",
       "    .dataframe tbody tr th {\n",
       "        vertical-align: top;\n",
       "    }\n",
       "\n",
       "    .dataframe thead th {\n",
       "        text-align: right;\n",
       "    }\n",
       "</style>\n",
       "<table border=\"1\" class=\"dataframe\">\n",
       "  <thead>\n",
       "    <tr style=\"text-align: right;\">\n",
       "      <th></th>\n",
       "      <th>user_id</th>\n",
       "      <th>business_id</th>\n",
       "      <th>rating</th>\n",
       "    </tr>\n",
       "  </thead>\n",
       "  <tbody>\n",
       "    <tr>\n",
       "      <th>1150297</th>\n",
       "      <td>bldlSShNjxRmlEhz_ls25w</td>\n",
       "      <td>x2ly0NsSTMmMpljpdIZdYA</td>\n",
       "      <td>5.0</td>\n",
       "    </tr>\n",
       "    <tr>\n",
       "      <th>1483925</th>\n",
       "      <td>bldlSShNjxRmlEhz_ls25w</td>\n",
       "      <td>f3eve2cxUIzyanWnHdMtFQ</td>\n",
       "      <td>5.0</td>\n",
       "    </tr>\n",
       "  </tbody>\n",
       "</table>\n",
       "</div>"
      ],
      "text/plain": [
       "                        user_id             business_id  rating\n",
       "1150297  bldlSShNjxRmlEhz_ls25w  x2ly0NsSTMmMpljpdIZdYA     5.0\n",
       "1483925  bldlSShNjxRmlEhz_ls25w  f3eve2cxUIzyanWnHdMtFQ     5.0"
      ]
     },
     "execution_count": 38,
     "metadata": {},
     "output_type": "execute_result"
    }
   ],
   "source": [
    "usuario_vistas = data_us[data_us['user_id'] == usuario]\n",
    "print(usuario_vistas.shape)\n",
    "usuario_vistas.head()"
   ]
  },
  {
   "cell_type": "code",
   "execution_count": 44,
   "id": "5a0d1278-12db-4d06-a109-f982dd68c515",
   "metadata": {},
   "outputs": [],
   "source": [
    "recomendaciones_usuario = pd.merge(recomendaciones_usuario, usuario_vistas[['business_id']], how='left', indicator=True)\n",
    "recomendaciones_usuario = recomendaciones_usuario[recomendaciones_usuario['_merge'] == 'left_only']"
   ]
  },
  {
   "cell_type": "code",
   "execution_count": 46,
   "id": "b40a0e8e-a6e4-4b74-8eba-ae1690e92dd1",
   "metadata": {},
   "outputs": [],
   "source": [
    "recomendaciones_usuario=recomendaciones_usuario.drop('_merge', axis=1)"
   ]
  },
  {
   "cell_type": "code",
   "execution_count": 49,
   "id": "888bc812-7839-422d-85ea-1717fb7f5399",
   "metadata": {},
   "outputs": [],
   "source": [
    "recomendaciones_usuario['Estimate_Score'] = recomendaciones_usuario['business_id'].apply(lambda x: modelo_us.predict(usuario, x).est)"
   ]
  },
  {
   "cell_type": "code",
   "execution_count": 50,
   "id": "d729a857-e62b-41fd-8cc9-a9f218f43535",
   "metadata": {},
   "outputs": [
    {
     "data": {
      "text/html": [
       "<div>\n",
       "<style scoped>\n",
       "    .dataframe tbody tr th:only-of-type {\n",
       "        vertical-align: middle;\n",
       "    }\n",
       "\n",
       "    .dataframe tbody tr th {\n",
       "        vertical-align: top;\n",
       "    }\n",
       "\n",
       "    .dataframe thead th {\n",
       "        text-align: right;\n",
       "    }\n",
       "</style>\n",
       "<table border=\"1\" class=\"dataframe\">\n",
       "  <thead>\n",
       "    <tr style=\"text-align: right;\">\n",
       "      <th></th>\n",
       "      <th>business_id</th>\n",
       "      <th>local_name</th>\n",
       "      <th>Estimate_Score</th>\n",
       "    </tr>\n",
       "  </thead>\n",
       "  <tbody>\n",
       "    <tr>\n",
       "      <th>28866</th>\n",
       "      <td>Ku2b7oA9s56mHoflb5lJ2w</td>\n",
       "      <td>Alma Del Mar</td>\n",
       "      <td>5.0</td>\n",
       "    </tr>\n",
       "    <tr>\n",
       "      <th>28810</th>\n",
       "      <td>sKl0EzbH76zZL5CFLpdrgA</td>\n",
       "      <td>BRŪ Florida Growler Bar</td>\n",
       "      <td>5.0</td>\n",
       "    </tr>\n",
       "    <tr>\n",
       "      <th>28843</th>\n",
       "      <td>CLtf4i6Mm8nj5t2wB9myEg</td>\n",
       "      <td>Gulf Coast Sourdough &amp; Wild Yeast Breads</td>\n",
       "      <td>5.0</td>\n",
       "    </tr>\n",
       "    <tr>\n",
       "      <th>28841</th>\n",
       "      <td>dF0N_SLXe6TUa4CfQ42LYA</td>\n",
       "      <td>The 439 Magic Experience</td>\n",
       "      <td>5.0</td>\n",
       "    </tr>\n",
       "    <tr>\n",
       "      <th>28838</th>\n",
       "      <td>zCmdpK9TYREr3sO1QO6BCw</td>\n",
       "      <td>Philly Brew Tours by City Brew Tours</td>\n",
       "      <td>5.0</td>\n",
       "    </tr>\n",
       "  </tbody>\n",
       "</table>\n",
       "</div>"
      ],
      "text/plain": [
       "                  business_id                                local_name  \\\n",
       "28866  Ku2b7oA9s56mHoflb5lJ2w                              Alma Del Mar   \n",
       "28810  sKl0EzbH76zZL5CFLpdrgA                   BRŪ Florida Growler Bar   \n",
       "28843  CLtf4i6Mm8nj5t2wB9myEg  Gulf Coast Sourdough & Wild Yeast Breads   \n",
       "28841  dF0N_SLXe6TUa4CfQ42LYA                  The 439 Magic Experience   \n",
       "28838  zCmdpK9TYREr3sO1QO6BCw      Philly Brew Tours by City Brew Tours   \n",
       "\n",
       "       Estimate_Score  \n",
       "28866             5.0  \n",
       "28810             5.0  \n",
       "28843             5.0  \n",
       "28841             5.0  \n",
       "28838             5.0  "
      ]
     },
     "execution_count": 50,
     "metadata": {},
     "output_type": "execute_result"
    }
   ],
   "source": [
    "recomendaciones_usuario = recomendaciones_usuario.sort_values('Estimate_Score', ascending=False)\n",
    "recomendaciones_usuario.head()"
   ]
  },
  {
   "cell_type": "code",
   "execution_count": 51,
   "id": "857a6706-1b7f-489b-8d71-09989cb22a61",
   "metadata": {},
   "outputs": [
    {
     "name": "stdout",
     "output_type": "stream",
     "text": [
      "RMSE: 0.6518\n"
     ]
    },
    {
     "data": {
      "text/plain": [
       "0.6517908898319645"
      ]
     },
     "execution_count": 51,
     "metadata": {},
     "output_type": "execute_result"
    }
   ],
   "source": [
    "accuracy.rmse(predictions)"
   ]
  },
  {
   "cell_type": "code",
   "execution_count": 52,
   "id": "b510805c-a58c-4e89-98e2-96a849579585",
   "metadata": {},
   "outputs": [
    {
     "name": "stdout",
     "output_type": "stream",
     "text": [
      "1\n",
      "Evaluating RMSE of algorithm SVD on 3 split(s).\n",
      "\n",
      "                  Fold 1  Fold 2  Fold 3  Mean    Std     \n",
      "RMSE (testset)    0.6473  0.6462  0.6476  0.6470  0.0006  \n",
      "Fit time          16.68   15.90   16.45   16.35   0.33    \n",
      "Test time         3.98    3.18    4.75    3.97    0.64    \n",
      "2\n",
      "Evaluating RMSE of algorithm SVD on 3 split(s).\n",
      "\n",
      "                  Fold 1  Fold 2  Fold 3  Mean    Std     \n",
      "RMSE (testset)    0.6475  0.6476  0.6465  0.6472  0.0005  \n",
      "Fit time          17.06   16.69   17.33   17.03   0.26    \n",
      "Test time         4.96    4.75    3.99    4.57    0.42    \n",
      "4\n",
      "Evaluating RMSE of algorithm SVD on 3 split(s).\n",
      "\n",
      "                  Fold 1  Fold 2  Fold 3  Mean    Std     \n",
      "RMSE (testset)    0.6474  0.6472  0.6473  0.6473  0.0001  \n",
      "Fit time          18.23   17.76   17.75   17.91   0.23    \n",
      "Test time         4.08    4.28    4.02    4.13    0.11    \n",
      "8\n",
      "Evaluating RMSE of algorithm SVD on 3 split(s).\n",
      "\n",
      "                  Fold 1  Fold 2  Fold 3  Mean    Std     \n",
      "RMSE (testset)    0.6467  0.6469  0.6484  0.6473  0.0008  \n",
      "Fit time          20.10   20.88   20.67   20.55   0.33    \n",
      "Test time         4.95    3.98    4.99    4.64    0.46    \n",
      "16\n",
      "Evaluating RMSE of algorithm SVD on 3 split(s).\n",
      "\n",
      "                  Fold 1  Fold 2  Fold 3  Mean    Std     \n",
      "RMSE (testset)    0.6472  0.6486  0.6478  0.6478  0.0006  \n",
      "Fit time          24.93   24.34   24.31   24.53   0.29    \n",
      "Test time         4.97    3.94    4.83    4.58    0.46    \n",
      "32\n",
      "Evaluating RMSE of algorithm SVD on 3 split(s).\n",
      "\n",
      "                  Fold 1  Fold 2  Fold 3  Mean    Std     \n",
      "RMSE (testset)    0.6490  0.6495  0.6482  0.6489  0.0005  \n",
      "Fit time          31.37   31.21   31.85   31.48   0.27    \n",
      "Test time         4.89    3.96    4.84    4.56    0.43    \n",
      "64\n",
      "Evaluating RMSE of algorithm SVD on 3 split(s).\n",
      "\n",
      "                  Fold 1  Fold 2  Fold 3  Mean    Std     \n",
      "RMSE (testset)    0.6511  0.6501  0.6505  0.6506  0.0004  \n",
      "Fit time          45.22   47.03   47.04   46.43   0.85    \n",
      "Test time         4.16    3.20    4.89    4.08    0.69    \n",
      "128\n",
      "Evaluating RMSE of algorithm SVD on 3 split(s).\n",
      "\n",
      "                  Fold 1  Fold 2  Fold 3  Mean    Std     \n",
      "RMSE (testset)    0.6545  0.6546  0.6527  0.6539  0.0009  \n",
      "Fit time          72.14   71.92   73.45   72.50   0.67    \n",
      "Test time         4.95    4.81    4.05    4.60    0.39    \n",
      "256\n",
      "Evaluating RMSE of algorithm SVD on 3 split(s).\n",
      "\n",
      "                  Fold 1  Fold 2  Fold 3  Mean    Std     \n",
      "RMSE (testset)    0.6604  0.6597  0.6600  0.6600  0.0003  \n",
      "Fit time          125.54  126.94  125.48  125.98  0.67    \n",
      "Test time         4.26    4.17    4.18    4.20    0.04    \n"
     ]
    }
   ],
   "source": [
    "rmse_test_means = []\n",
    "factores = [1,2,4,8,16,32,64,128,256]\n",
    "\n",
    "for factor in factores:\n",
    "    print(factor)\n",
    "    model = SVD(n_factors=factor)\n",
    "    cv = cross_validate(model, data, measures=['RMSE'], cv = 3, verbose=True)\n",
    "    rmse_test_means.append(np.mean(cv['test_rmse']))"
   ]
  },
  {
   "cell_type": "code",
   "execution_count": 19,
   "id": "aab57ed8-ec12-4804-8994-6478ea4372c9",
   "metadata": {},
   "outputs": [],
   "source": [
    "param_grid = {'n_factors': [5,50,100],'n_epochs': [5, 10,20], 'lr_all': [0.001, 0.002, 0.005],\n",
    "              'reg_all': [0.002, 0.02, 0.2]}\n",
    "gs = GridSearchCV(SVD, param_grid, measures=['rmse'], cv=3, n_jobs = -1)\n",
    "gs.fit(data)"
   ]
  },
  {
   "cell_type": "code",
   "execution_count": 20,
   "id": "ffca845f-975c-4536-9119-c41cd459defe",
   "metadata": {},
   "outputs": [
    {
     "name": "stdout",
     "output_type": "stream",
     "text": [
      "0.6474753799705083\n",
      "{'n_factors': 5, 'n_epochs': 20, 'lr_all': 0.005, 'reg_all': 0.02}\n"
     ]
    }
   ],
   "source": [
    "print(gs.best_score['rmse'])\n",
    "print(gs.best_params['rmse'])"
   ]
  },
  {
   "cell_type": "code",
   "execution_count": 21,
   "id": "d9f5a394-0e9c-479e-9dd2-aae7d15a6aa6",
   "metadata": {},
   "outputs": [],
   "source": [
    "modelo_yelp = SVD(n_factors=5, n_epochs=5, lr_all=0.005, reg_all=0.002)"
   ]
  },
  {
   "cell_type": "code",
   "execution_count": 27,
   "id": "de566584-eba6-4596-af4b-1747598ca357",
   "metadata": {},
   "outputs": [],
   "source": [
    "modelo_yelp=gs.best_estimator['rmse']"
   ]
  },
  {
   "cell_type": "code",
   "execution_count": 28,
   "id": "05e9614d-903b-4422-bb34-f8b7fa528e4a",
   "metadata": {},
   "outputs": [
    {
     "data": {
      "text/plain": [
       "<surprise.prediction_algorithms.matrix_factorization.SVD at 0x7fcd1cba6550>"
      ]
     },
     "execution_count": 28,
     "metadata": {},
     "output_type": "execute_result"
    }
   ],
   "source": [
    "modelo_yelp.fit(set_entreno)"
   ]
  },
  {
   "cell_type": "code",
   "execution_count": 29,
   "id": "4929bb1c-aa50-4295-a395-984282aa5c9a",
   "metadata": {},
   "outputs": [],
   "source": [
    "predictions = modelo_yelp.test(set_prueba)"
   ]
  },
  {
   "cell_type": "code",
   "execution_count": 30,
   "id": "6ade6a46-a26f-4479-80a2-8d72fe5c86cd",
   "metadata": {},
   "outputs": [
    {
     "data": {
      "text/plain": [
       "Prediction(uid='8YJ9YKVDohgfVY46ljjaig', iid='XSuO2E30ArnrjH9jquaK5Q', r_ui=5.0, est=4.884173392563544, details={'was_impossible': False})"
      ]
     },
     "execution_count": 30,
     "metadata": {},
     "output_type": "execute_result"
    }
   ],
   "source": [
    "predictions[1]"
   ]
  },
  {
   "cell_type": "code",
   "execution_count": 33,
   "id": "b40c4141-7e2c-4d49-a01e-907ac3692532",
   "metadata": {},
   "outputs": [],
   "source": [
    "def get_recommendationyelp(usuario, data_us=data_us, data_bus=data_bus):\n",
    "    rating = 4   # Tomamos películas a las que haya calificado con 4 o 5 estrellas\n",
    "    df_user = data_us[(data_us['user_id'] == usuario) & (data_us['rating'] >= rating)]\n",
    "    df_user = df_user.reset_index(drop=True)\n",
    "    df_user= pd.merge(df_user, data_bus, on='business_id', how='inner')\n",
    "    \n",
    "    recomendaciones_usuario = data_bus.copy()\n",
    "    usuario_vistas = data_us[data_us['user_id'] == usuario]\n",
    "    \n",
    "    recomendaciones_usuario = pd.merge(recomendaciones_usuario, usuario_vistas[['business_id']], how='left', indicator=True)\n",
    "    recomendaciones_usuario = recomendaciones_usuario[recomendaciones_usuario['_merge'] == 'left_only']\n",
    "    recomendaciones_usuario=recomendaciones_usuario.drop('_merge', axis=1)\n",
    "    \n",
    "    recomendaciones_usuario['Estimate_Score'] = recomendaciones_usuario['business_id'].apply(lambda x: modelo_yelp.predict(usuario, x).est)\n",
    "    recomendaciones_usuario = recomendaciones_usuario.sort_values('Estimate_Score', ascending=False)\n",
    "    recomendaciones= list(recomendaciones_usuario.local_name.head())\n",
    "    return {'restaurantes recomendados': recomendaciones}"
   ]
  },
  {
   "cell_type": "code",
   "execution_count": 34,
   "id": "dbf3742b-bcff-44ae-8755-5cdae9d18388",
   "metadata": {},
   "outputs": [
    {
     "data": {
      "text/plain": [
       "{'restaurantes recomendados': ['Utsav Indian Cuisine',\n",
       "  \"Pedro's Smog Check\",\n",
       "  'Frozen Rolled Icecream',\n",
       "  'Pomodoro Pizza & Italian Restaurant',\n",
       "  \"Nature's Food Patch Market & Café\"]}"
      ]
     },
     "execution_count": 34,
     "metadata": {},
     "output_type": "execute_result"
    }
   ],
   "source": [
    "get_recommendationyelp('8YJ9YKVDohgfVY46ljjaig')"
   ]
  },
  {
   "cell_type": "code",
   "execution_count": 35,
   "id": "8021d83c-33fc-42a8-b321-a97b7502f0bc",
   "metadata": {},
   "outputs": [
    {
     "data": {
      "text/plain": [
       "['modelo.joblib']"
      ]
     },
     "execution_count": 35,
     "metadata": {},
     "output_type": "execute_result"
    }
   ],
   "source": [
    "joblib.dump(modelo_yelp, 'modelo.joblib')"
   ]
  },
  {
   "cell_type": "code",
   "execution_count": 38,
   "id": "fc32b455-bb0a-4611-b691-d1bf93633e5d",
   "metadata": {},
   "outputs": [],
   "source": [
    "from google.cloud import storage\n",
    "import os"
   ]
  },
  {
   "cell_type": "code",
   "execution_count": 39,
   "id": "7df40dd5-8c9b-48a2-a4dc-7e6022dc4d4a",
   "metadata": {},
   "outputs": [],
   "source": [
    "model_directory = 'gs://model-yelp'\n",
    "storage_path = os.path.join(model_directory, 'modelo.joblib')\n",
    "blob = storage.blob.Blob.from_string(storage_path, \n",
    "                                    client = storage.Client(project=''))\n",
    "blob.upload_from_filename(\"modelo.joblib\")"
   ]
  },
  {
   "cell_type": "code",
   "execution_count": 45,
   "id": "1e37ada1-ae6f-496b-8610-19db8b93c035",
   "metadata": {},
   "outputs": [],
   "source": [
    "import pyarrow as pa\n",
    "import pyarrow.parquet as pq"
   ]
  },
  {
   "cell_type": "code",
   "execution_count": 46,
   "id": "d2b38ea9-6749-40fd-9de0-6ba6c9b901cd",
   "metadata": {},
   "outputs": [],
   "source": [
    "table_us = pa.Table.from_pandas(data_us)"
   ]
  },
  {
   "cell_type": "code",
   "execution_count": 47,
   "id": "d4985634-709e-4e36-9431-77c033d8bc3f",
   "metadata": {},
   "outputs": [],
   "source": [
    "pq.write_table(table_us, 'data_us.parquet')"
   ]
  },
  {
   "cell_type": "code",
   "execution_count": 48,
   "id": "26b356dd-9d97-41b2-860e-da6d70d01a74",
   "metadata": {},
   "outputs": [],
   "source": [
    "table_bus = pa.Table.from_pandas(data_bus)"
   ]
  },
  {
   "cell_type": "code",
   "execution_count": 49,
   "id": "b8fd493f-d4ef-4632-b351-8bba338165c1",
   "metadata": {},
   "outputs": [],
   "source": [
    "pq.write_table(table_bus, 'data_bus.parquet')"
   ]
  },
  {
   "cell_type": "code",
   "execution_count": 50,
   "id": "699823cd-6a7c-4dcf-8dd6-4f05e80aa4d9",
   "metadata": {},
   "outputs": [],
   "source": [
    "model_directory = 'gs://model-yelp'\n",
    "storage_path = os.path.join(model_directory, 'data_us.parquet')\n",
    "blob = storage.blob.Blob.from_string(storage_path, \n",
    "                                    client = storage.Client(project=''))\n",
    "blob.upload_from_filename(\"data_us.parquet\")"
   ]
  },
  {
   "cell_type": "code",
   "execution_count": 51,
   "id": "d693be2d-13f1-454f-a646-2676f9198252",
   "metadata": {},
   "outputs": [],
   "source": [
    "model_directory = 'gs://model-yelp'\n",
    "storage_path = os.path.join(model_directory, 'data_bus.parquet')\n",
    "blob = storage.blob.Blob.from_string(storage_path, \n",
    "                                    client = storage.Client(project=''))\n",
    "blob.upload_from_filename(\"data_bus.parquet\")"
   ]
  },
  {
   "cell_type": "code",
   "execution_count": null,
   "id": "f41b8a75-1a37-4f26-a8f5-cd28b675611a",
   "metadata": {},
   "outputs": [],
   "source": []
  }
 ],
 "metadata": {
  "kernelspec": {
   "display_name": "Python (Local)",
   "language": "python",
   "name": "local-base"
  },
  "language_info": {
   "codemirror_mode": {
    "name": "ipython",
    "version": 3
   },
   "file_extension": ".py",
   "mimetype": "text/x-python",
   "name": "python",
   "nbconvert_exporter": "python",
   "pygments_lexer": "ipython3",
   "version": "3.7.12"
  }
 },
 "nbformat": 4,
 "nbformat_minor": 5
}
